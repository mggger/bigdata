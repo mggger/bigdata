{
 "cells": [
  {
   "cell_type": "markdown",
   "metadata": {},
   "source": [
    "# Setup in cluster (搭建一个高可用的kafka集群)\n",
    "1. 首先搭建一个zookeeper集群 参照[zookeeper-deploy](../zookeeper/cluster-deploy.ipynb)\n",
    "2. 下载[kafka](http://apache.claz.org/kafka/2.1.0/kafka_2.11-2.1.0.tgz)\n",
    "3. 解压, 我解压的目录是/opt/bigdata/kafka\n",
    "4. 创建log存储的目录，mkdir logs \n",
    "5. 修改配置 （以master为例子)\n",
    "\n",
    "```\n",
    "    # 每台机器的id需要不一样\n",
    "    broker.id=1\n",
    "    \n",
    "    listeners=PLAINTEXT://master:9092\n",
    "    \n",
    "    log.dirs=/opt/bigdata/kafka/logs\n",
    "\n",
    "\n",
    "    zookeeper.connect=master:2181, node1:2181, node2:2181\n",
    "```\n",
    "\n",
    "6. 启动kafka服务   bin/kafka-server-start.sh -daemon config/server.properties\n",
    "7. 检查kafka集群是否成功启动\n",
    "\n",
    "```\n",
    "    echo dump | nc localhost 2181\n",
    "```\n",
    "\n",
    "8. 正常的输出为\n",
    "\n",
    "\n",
    "```\n",
    "    [root@node2 bin]# echo dump | nc localhost 2181\n",
    "    \n",
    "    SessionTracker dump:\n",
    "    \n",
    "    org.apache.zookeeper.server.quorum.LearnerSessionTracker@62ab5961\n",
    "    \n",
    "    ephemeral nodes dump:\n",
    "    \n",
    "    Sessions with Ephemerals (3):\n",
    "    \n",
    "    0x10000d0426f0005:\n",
    "\t\n",
    "        /brokers/ids/2\n",
    "    \n",
    "    0x10000d0426f0004:\n",
    "\t\n",
    "        /brokers/ids/1\n",
    "        \n",
    "    0x10000d0426f0000:\n",
    "        \n",
    "        /controller\n",
    "        \n",
    "        /brokers/ids/3\n",
    "\n",
    "```\n",
    "\n"
   ]
  }
 ],
 "metadata": {
  "kernelspec": {
   "display_name": "Python 3",
   "language": "python",
   "name": "python3"
  },
  "language_info": {
   "codemirror_mode": {
    "name": "ipython",
    "version": 3
   },
   "file_extension": ".py",
   "mimetype": "text/x-python",
   "name": "python",
   "nbconvert_exporter": "python",
   "pygments_lexer": "ipython3",
   "version": "3.7.0"
  }
 },
 "nbformat": 4,
 "nbformat_minor": 2
}
