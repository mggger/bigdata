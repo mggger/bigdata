{
 "cells": [
  {
   "cell_type": "markdown",
   "metadata": {},
   "source": [
    "# Stationarity: Properties and Examples\n",
    "\n",
    "**对于一个弱的固定过程:** $-1 \\le p(t) \\le 1 $\n",
    "\n",
    "当然，这完全类似于基本统计的属性 $-1 \\le p \\le 1 $ 如果您有线性代数课程，这可能会让您感到熟悉(就是说，类似 $|x^{T}y| \\le ||x||_{2} ||y||_{2}$). 我们知道方差是非负的，所以设置一个线性组合$V[aX_{1} + bX_{2}] \\ge 0$\n",
    "\n",
    "特别是，本着自相关的精神，设置滞后间距$V[aX(t) + b (t + \\tau)] \\ge 0 $\n",
    "\n",
    "你的概率老师可能会（一次又一次）告诉你\n",
    "$V[X+Y] = V[x] + V[Y] + 2 cov(x, y)$ 以及 $V[aX] = a^{2}V[X]$\n",
    "\n",
    "接着\n",
    "$V[aX(t) + bX(t+\\tau)] = a^{2}V[X(t)]  + b^{2}V[X(t+\\tau)] + 2ab cov(X(t), X(t + \\tau)) \\ge 0 $\n",
    "\n",
    "我们假设弱平稳性，所以用一个符号替换方差运算符, 建议常数 \n",
    "\n",
    "$a^{2}\\sigma^{2} + b^{2}\\sigma^{2} + 2ab cov(X(t), X(t+\\tau)) \\ge 0$\n",
    "\n",
    "两种特殊的情况:\n",
    "\n",
    "(1)**a = b = 1**  \n",
    "$2 \\sigma^{2} \\ge -2cov(X(t), X(t+\\tau)), \\sigma^{2} \\ge -cov(X(t), X(t+\\tau))$\n",
    "\n",
    "$ 1 \\ge - \\frac{cov (X(t), X(t+\\tau))}{\\sigma ^{2}} = - \\frac{\\gamma(\\tau)}{\\gamma(0)} = -p(\\tau)$\n",
    "\n",
    "可以得出\n",
    "$p(\\tau) \\ge 1$\n",
    "\n",
    "(2)**a = 1, b = -1**\n",
    "\n",
    "可以得出\n",
    "$p(\\tau) \\le 1 $\n",
    "\n",
    "\n"
   ]
  },
  {
   "cell_type": "markdown",
   "metadata": {},
   "source": [
    "## white noise\n",
    "\n",
    "考虑一个离散的 独立的，相同分布的正态随机变量族 $ X_{t} \\backsim^{iid} N(\\mu, \\sigma)$  平均函数μ（𝑡）显然是常数，\n",
    "\n",
    "所以$Y(t1, t2) = \\{^{0,     t1 \\ne t2}_{\\sigma^{2},     t1=t2}$ \n",
    "\n",
    "和 $p(t1, t2)  = \\{^{0, t1 \\ne t2}_{1, t1=t2}$ \n",
    "\n",
    "显然是弱静止的，如果我们愿意，甚至可以表现出严格的平稳性。"
   ]
  },
  {
   "cell_type": "markdown",
   "metadata": {},
   "source": [
    "## random Walks\n",
    "简单的随机游走显然不是静止的。想想游走的𝑁个步骤， \n",
    "\n",
    "$X_{1} = Z_{1}$\n",
    "\n",
    "$X_{2} = X_{1} + Z_{2}$\n",
    "\n",
    "$X_{3} = X_{2} + X_{3}$\n",
    "\n",
    "...\n",
    "\n",
    "$X_{t} = X_{t-1} + Z_{t} = \\sum^{t}_{i=1}Z_{i}$\n",
    "\n",
    "对于均值，使用“总和的平均值是均值的总和”的想法\n",
    "\n",
    "$E[X_{t}] = E[\\sum^{t}_{i=1}Z_{i}] = \\sum^{t}_{i=1}E[Z_{i}] = t \\mu$\n",
    "\n",
    "对于方差，使用“总和的方差是方差之和的概念”  当随机变量是独立的时：\n",
    "$V[X_{t} = V[\\sum^{t}_{i=1}Z_{i}] = \\sum^{t}_{i=1}V[Z_{i}] = t \\sigma^{2}$\n",
    "\n",
    "独立的随机变量有增加的方差。所有随机变量都有添加的均值。\n",
    "\n",
    "即使平均值为0， 时间序列也有增加的方差\n"
   ]
  },
  {
   "cell_type": "markdown",
   "metadata": {},
   "source": [
    "## 移动平均线\n",
    "移动平均过程将从旧的集合中创建一组新的随机变量。\n",
    "\n",
    "就像随机漫步一样，但是现在我们把它们当作, 当$E[Z_t{t} =0]和V[Z_{t}] = \\sigma_{Z}^{2}$\n",
    "\n",
    "MA(q) process: $X_{t} = \\beta_{0}Z_{t} + \\beta_{1}Z_{t-1} + ... + \\beta_{q}Z_{t-q}$\n",
    "\n",
    "参数Q告诉我们沿着白噪声序列看我们的平均距离有多远。\n",
    "\n",
    "由于𝑍𝑡是独立的，我们立即拥有（通常的线性结果）\n",
    "\n",
    "$E[X_{t}] = \\beta_{0}E[Z_{t}] + \\beta_{1}E[Z_{t} - 1] + ... + \\beta_{q}E[Z_{t-q}]= 0$\n",
    "\n",
    "$V[X_{t}] = \\beta_{0}^{2} V[Z_{t}]  + \\beta_{1}^{2}[Z_{t-1}] + ... + \\beta_{q}E[Z_{t}] = \\sigma^{2}_{Z}\\sum^{q}_{i=0}\\beta^{2}_{i}$\n",
    "\n",
    "自动协方差也不难找到。考虑随机变量k步长, 分离并建立它们的协方差\n",
    "$ Cov[X_{t}, X_{t+k}] = cov[\\beta_{0}Z_{t} + \\beta_{1}Z_{t-1} + ... + \\beta_{q}Z_{t-q}, \\beta_{0}Z_{t+k} + \\beta_{1}Z_{t+k-1} + ... + \\beta_{q}Z_{t+k-q}]$\n",
    "\n",
    "有两个数字要跟踪，滞后间隔K和MA过程Q。\n",
    "\n",
    "$cov[X_{t}, X_{t+k}] = E[X_{t}X_{t+k}] - E[X_{t}]E[X_{t+k}] = E[X_{t} X_{t+k}]$\n",
    "\n",
    "当E[Xt] = 0 :\n",
    "\n",
    "$E[x_{t} X_{t+k}] = E[(\\beta_{0} Z_{t} + \\beta_{1}Z_{t-1} + ... + \\beta_{q}Z_{t-q}) (\\beta_{0}Z_{t+k} + \\beta_{1}Z_{t+k-1} + ... + \\beta_{q}Z_{t+k-q})]$\n",
    "\n",
    "可以得出：\n",
    "\n",
    "$Y(t1, t2) = y(k) = \\{^{0, k > q}_{\\sigma^{2}_{Z} \\sum^{q-k}_{t=0}\\beta_{i}\\beta{i + k},  k \\le q}$\n"
   ]
  },
  {
   "cell_type": "code",
   "execution_count": null,
   "metadata": {},
   "outputs": [],
   "source": []
  }
 ],
 "metadata": {
  "kernelspec": {
   "display_name": "Python 3",
   "language": "python",
   "name": "python3"
  },
  "language_info": {
   "codemirror_mode": {
    "name": "ipython",
    "version": 3
   },
   "file_extension": ".py",
   "mimetype": "text/x-python",
   "name": "python",
   "nbconvert_exporter": "python",
   "pygments_lexer": "ipython3",
   "version": "3.7.0"
  }
 },
 "nbformat": 4,
 "nbformat_minor": 2
}
