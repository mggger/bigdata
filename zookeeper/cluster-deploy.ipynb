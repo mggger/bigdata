{
 "cells": [
  {
   "cell_type": "markdown",
   "metadata": {},
   "source": [
    "# zookeeper集群部署\n",
    "\n",
    "机器数量应该为单数1， 3， 5... (leader election)\n",
    "\n",
    "本次部署使用的是三台机器\n",
    "- master(2core 4g)\n",
    "- node1(1core 1g)\n",
    "- node2(1core 2g)\n",
    "\n",
    "部署步骤:\n",
    "\n",
    "1. 下载[zookeeper](http://apache.mirrors.ionfish.org/zookeeper/zookeeper-3.4.13/zookeeper-3.4.13.tar.gz)\n",
    "2. 解压, 我解压到的地方为/opt/bigdata/zookeeper\n",
    "3. 进入zookeeper目录 mkdir data\n",
    "4. 给每台机器创建id echo \"1\" > data/myid (master)   echo \"2\" > data/myid (node1)  echo \"3\" > data/myid (node2)\n",
    "5. 编写配置\n",
    "```\n",
    "    tickTime=2000\n",
    "    \n",
    "    initLimit=10\n",
    "    \n",
    "    syncLimit=5\n",
    "    \n",
    "    dataDir=/opt/bigdata/zookeeper/data\n",
    "    \n",
    "    clientPort=2181\n",
    "\n",
    "    server.1=master:2891:3881\n",
    "    \n",
    "    server.2=node1:2891:3881\n",
    "    \n",
    "    server.3=node2:2891:3881\n",
    "```\n",
    "6. 依次启动每个zookeeper服务 sh bin/zkServer.sh start\n"
   ]
  }
 ],
 "metadata": {
  "kernelspec": {
   "display_name": "Python 3",
   "language": "python",
   "name": "python3"
  },
  "language_info": {
   "codemirror_mode": {
    "name": "ipython",
    "version": 3
   },
   "file_extension": ".py",
   "mimetype": "text/x-python",
   "name": "python",
   "nbconvert_exporter": "python",
   "pygments_lexer": "ipython3",
   "version": "3.7.0"
  }
 },
 "nbformat": 4,
 "nbformat_minor": 2
}
